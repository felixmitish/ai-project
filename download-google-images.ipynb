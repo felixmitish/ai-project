{
 "cells": [
  {
   "cell_type": "code",
   "execution_count": 1,
   "metadata": {},
   "outputs": [
    {
     "ename": "KeyError",
     "evalue": "'geometry'",
     "output_type": "error",
     "traceback": [
      "\u001b[0;31m---------------------------------------------------------------------------\u001b[0m",
      "\u001b[0;31mKeyError\u001b[0m                                  Traceback (most recent call last)",
      "\u001b[1;32m/Users/feliksmitish/AI-project/download-google-images.ipynb Cell 1\u001b[0m line \u001b[0;36m2\n\u001b[1;32m     <a href='vscode-notebook-cell:/Users/feliksmitish/AI-project/download-google-images.ipynb#W0sZmlsZQ%3D%3D?line=20'>21</a>\u001b[0m \u001b[39mfor\u001b[39;00m road \u001b[39min\u001b[39;00m roads[\u001b[39m\"\u001b[39m\u001b[39melements\u001b[39m\u001b[39m\"\u001b[39m]:\n\u001b[1;32m     <a href='vscode-notebook-cell:/Users/feliksmitish/AI-project/download-google-images.ipynb#W0sZmlsZQ%3D%3D?line=21'>22</a>\u001b[0m     \u001b[39m# we want to get the coordinates of the road line\u001b[39;00m\n\u001b[1;32m     <a href='vscode-notebook-cell:/Users/feliksmitish/AI-project/download-google-images.ipynb#W0sZmlsZQ%3D%3D?line=22'>23</a>\u001b[0m     coordinates \u001b[39m=\u001b[39m []\n\u001b[0;32m---> <a href='vscode-notebook-cell:/Users/feliksmitish/AI-project/download-google-images.ipynb#W0sZmlsZQ%3D%3D?line=23'>24</a>\u001b[0m     \u001b[39mfor\u001b[39;00m coordinate \u001b[39min\u001b[39;00m road[\u001b[39m\"\u001b[39;49m\u001b[39mgeometry\u001b[39;49m\u001b[39m\"\u001b[39;49m]:\n\u001b[1;32m     <a href='vscode-notebook-cell:/Users/feliksmitish/AI-project/download-google-images.ipynb#W0sZmlsZQ%3D%3D?line=24'>25</a>\u001b[0m         coordinates\u001b[39m.\u001b[39mappend((coordinate[\u001b[39m\"\u001b[39m\u001b[39mlat\u001b[39m\u001b[39m\"\u001b[39m], coordinate[\u001b[39m\"\u001b[39m\u001b[39mlon\u001b[39m\u001b[39m\"\u001b[39m]))\n\u001b[1;32m     <a href='vscode-notebook-cell:/Users/feliksmitish/AI-project/download-google-images.ipynb#W0sZmlsZQ%3D%3D?line=26'>27</a>\u001b[0m     \u001b[39m# we want to divide the road line into equal fragments of 50 meters\u001b[39;00m\n\u001b[1;32m     <a href='vscode-notebook-cell:/Users/feliksmitish/AI-project/download-google-images.ipynb#W0sZmlsZQ%3D%3D?line=27'>28</a>\u001b[0m     \u001b[39m# and get the points of the fragments\u001b[39;00m\n",
      "\u001b[0;31mKeyError\u001b[0m: 'geometry'"
     ]
    }
   ],
   "source": [
    "import requests\n",
    "import geopy\n",
    "\n",
    "\n",
    "# Step 2: Extract all the roads within the city boundaries using the Overpass API\n",
    "# use city name to get city streets from OpenStreetMap\n",
    "city = \"Nice\"\n",
    "# construct the URL for the Overpass API request\n",
    "url = f\"https://overpass-api.de/api/interpreter?data=[out:json];area[name={city}];(way[highway](area);>;);out;\"\n",
    "# send the API request\n",
    "response = requests.get(url)\n",
    "# save the response as a JSON file\n",
    "with open(\"data/roads.json\", \"w\") as file:\n",
    "    file.write(response.text)\n",
    "roads = response.json()\n",
    "\n",
    "\n",
    "# Step 3: Divide the roads into equal fragments of 50 meters\n",
    "points = []\n",
    "# each road line we want to divide into equal fragments and get points\n",
    "for road in roads[\"elements\"]:\n",
    "    # we want to get the coordinates of the road line\n",
    "    coordinates = []\n",
    "    for coordinate in road[\"geometry\"]:\n",
    "        coordinates.append((coordinate[\"lat\"], coordinate[\"lon\"]))\n",
    "\n",
    "    # we want to divide the road line into equal fragments of 50 meters\n",
    "    # and get the points of the fragments\n",
    "    for i in range(len(coordinates) - 1):\n",
    "        # we want to get the start and end coordinates of the fragment\n",
    "        start = coordinates[i]\n",
    "        end = coordinates[i + 1]\n",
    "\n",
    "        # we want to get the distance between the start and end coordinates\n",
    "        distance = geopy.distance.distance(start, end).meters\n",
    "\n",
    "        # we want to divide the distance into equal fragments of 50 meters\n",
    "        fragments = distance // 50\n",
    "\n",
    "        # we want to get the latitude and longitude coordinates of the fragments\n",
    "        for j in range(int(fragments)):\n",
    "            # we want to get the latitude and longitude coordinates of the fragment\n",
    "            latitude = start[0] + (end[0] - start[0]) * j / fragments\n",
    "            longitude = start[1] + (end[1] - start[1]) * j / fragments\n",
    "\n",
    "            # we want to save the latitude and longitude coordinates of the fragment\n",
    "            points.append((latitude, longitude))\n",
    "\n",
    "\n",
    "\n",
    "# Define the API key for accessing the Google Street View API\n",
    "api_key = \"YOUR_API_KEY\"\n",
    "# Step 4: Use the obtained coordinates to request Google Street View images\n",
    "for fragment in points:\n",
    "    latitude = fragment.latitude\n",
    "    longitude = fragment.longitude\n",
    "\n",
    "    # Construct the URL for the Street View API request\n",
    "    url = f\"https://maps.googleapis.com/maps/api/streetview?size=640x640&location={latitude},{longitude}&key={api_key}\"\n",
    "\n",
    "    # Send the API request and save the image\n",
    "    response = requests.get(url)\n",
    "    with open(f\"street_view_{fragment.id}.jpg\", \"wb\") as file:\n",
    "        file.write(response.content)\n"
   ]
  }
 ],
 "metadata": {
  "kernelspec": {
   "display_name": "Python 3",
   "language": "python",
   "name": "python3"
  },
  "language_info": {
   "codemirror_mode": {
    "name": "ipython",
    "version": 3
   },
   "file_extension": ".py",
   "mimetype": "text/x-python",
   "name": "python",
   "nbconvert_exporter": "python",
   "pygments_lexer": "ipython3",
   "version": "3.8.18"
  }
 },
 "nbformat": 4,
 "nbformat_minor": 2
}
